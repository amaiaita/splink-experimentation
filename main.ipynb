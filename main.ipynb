{
 "cells": [
  {
   "cell_type": "code",
   "execution_count": null,
   "metadata": {},
   "outputs": [],
   "source": [
    "from splink.duckdb.linker import DuckDBLinker\n",
    "import splink.duckdb.comparison_library as cl\n",
    "import splink.duckdb.comparison_template_library as ctl\n",
    "from splink.duckdb.blocking_rule_library import block_on\n",
    "from splink.datasets import splink_datasets\n",
    "import pandas as pd\n",
    "import matplotlib.pyplot as plt\n",
    "import pyspark.sql.functions as F\n",
    "import matplotlib as mpl\n",
    "\n"
   ]
  },
  {
   "cell_type": "code",
   "execution_count": null,
   "metadata": {},
   "outputs": [],
   "source": [
    "df = splink_datasets.historical_50k\n",
    "df"
   ]
  },
  {
   "cell_type": "code",
   "execution_count": null,
   "metadata": {},
   "outputs": [],
   "source": [
    "settings = {\n",
    "    \"link_type\": \"dedupe_only\",\n",
    "    \"blocking_rules_to_generate_predictions\": [\n",
    "        block_on(\"first_name\"),\n",
    "        block_on(\"surname\"),\n",
    "    ],\n",
    "    \"comparisons\": [\n",
    "        ctl.name_comparison(\"first_name\"),\n",
    "        ctl.name_comparison(\"surname\"),\n",
    "        ctl.date_comparison(\"dob\", cast_strings_to_date=True,invalid_dates_as_null=True),\n",
    "        cl.jaro_winkler_at_thresholds(\"birth_place\", term_frequency_adjustments=True),\n",
    "    ],\n",
    "}"
   ]
  },
  {
   "cell_type": "code",
   "execution_count": null,
   "metadata": {},
   "outputs": [],
   "source": [
    "linker = DuckDBLinker(df, settings)\n",
    "linker.estimate_u_using_random_sampling(max_pairs=1e6)"
   ]
  },
  {
   "cell_type": "code",
   "execution_count": null,
   "metadata": {},
   "outputs": [],
   "source": [
    "blocking_rule_for_training = block_on([\"first_name\", \"surname\"])\n",
    "linker.estimate_parameters_using_expectation_maximisation(blocking_rule_for_training, estimate_without_term_frequencies=True)\n",
    "\n",
    "blocking_rule_for_training = block_on(\"substr(dob, 1, 4)\")  # block on year\n",
    "linker.estimate_parameters_using_expectation_maximisation(blocking_rule_for_training, estimate_without_term_frequencies=True)"
   ]
  },
  {
   "cell_type": "code",
   "execution_count": null,
   "metadata": {},
   "outputs": [],
   "source": [
    "def format_model_m_and_us():\n",
    "  model  = linker.save_settings_to_json()\n",
    "  m_and_us = []\n",
    "  for variable in model['comparisons']:\n",
    "    for level in variable['comparison_levels']:\n",
    "      if 'm_probability' in level:\n",
    "        m_and_us.append({'variable':variable['output_column_name'],'sql_condition':level['label_for_charts'],'m_probability':level['m_probability']}) \n",
    "      if 'u_probability' in level:\n",
    "        m_and_us[-1]['u_probability'] = level['u_probability']\n",
    "  m_and_us = pd.DataFrame(m_and_us)\n",
    "  m_and_us = m_and_us[['variable','sql_condition','m_probability','u_probability']]\n",
    "  m_and_us['1-u'] = 1-m_and_us['u_probability']\n",
    "  return m_and_us\n",
    "\n",
    "# COMMAND ----------\n",
    "\n",
    "# display m and u parameters\n",
    "# test_m_and_us = format_model_m_and_us('mps_enhancement_collab','firebreak_splink_models','xz_231016')\n",
    "# test_m_and_us1 = test_m_and_us[test_m_and_us['sql_condition'] == 'levenshtein <= 2']\n",
    "# test_m_and_us2 = test_m_and_us[test_m_and_us['sql_condition'] == 'Exact match']\n",
    "\n",
    "# display(test_m_and_us)\n",
    "\n",
    "# COMMAND ----------\n",
    "\n",
    "def plot_m_and_u(df,ax,marker=''):\n",
    "  groups = df.groupby('variable')\n",
    "  i=0\n",
    "  for variable, group in groups:\n",
    "    ax.scatter(group['1-u'], group.m_probability, c = list(mpl.colors.TABLEAU_COLORS.keys())[i], label=variable,marker=marker)\n",
    "    ax.set_xlabel('1 - u-probability')\n",
    "    ax.set_ylabel('m-probability')\n",
    "    i+=1  "
   ]
  },
  {
   "cell_type": "code",
   "execution_count": null,
   "metadata": {},
   "outputs": [],
   "source": [
    "linker.m_u_parameters_chart()"
   ]
  },
  {
   "cell_type": "code",
   "execution_count": null,
   "metadata": {},
   "outputs": [],
   "source": [
    "model = linker.save_settings_to_json()\n",
    "model.keys()"
   ]
  },
  {
   "cell_type": "code",
   "execution_count": null,
   "metadata": {},
   "outputs": [],
   "source": [
    "m_and_us_df = format_model_m_and_us()\n",
    "m_and_us_df.to_csv('first_test.csv')"
   ]
  },
  {
   "cell_type": "code",
   "execution_count": null,
   "metadata": {},
   "outputs": [],
   "source": [
    "pairwise_predictions = linker.predict()"
   ]
  },
  {
   "cell_type": "code",
   "execution_count": null,
   "metadata": {},
   "outputs": [],
   "source": [
    "clusters = linker.cluster_pairwise_predictions_at_threshold(pairwise_predictions, 0.95)\n",
    "clusters.as_pandas_dataframe(limit=5)"
   ]
  },
  {
   "cell_type": "code",
   "execution_count": null,
   "metadata": {},
   "outputs": [],
   "source": []
  }
 ],
 "metadata": {
  "kernelspec": {
   "display_name": "Python 3",
   "language": "python",
   "name": "python3"
  },
  "language_info": {
   "codemirror_mode": {
    "name": "ipython",
    "version": 3
   },
   "file_extension": ".py",
   "mimetype": "text/x-python",
   "name": "python",
   "nbconvert_exporter": "python",
   "pygments_lexer": "ipython3",
   "version": "3.10.13"
  }
 },
 "nbformat": 4,
 "nbformat_minor": 2
}
