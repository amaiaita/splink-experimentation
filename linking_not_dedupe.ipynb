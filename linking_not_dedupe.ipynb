{
 "cells": [
  {
   "cell_type": "code",
   "execution_count": null,
   "metadata": {},
   "outputs": [],
   "source": [
    "from splink.duckdb.linker import DuckDBLinker\n",
    "import splink.duckdb.comparison_library as cl\n",
    "from splink.duckdb.blocking_rule_library import block_on\n",
    "from splink.datasets import splink_datasets\n",
    "import pandas as pd\n",
    "from utils import format_model_m_and_us\n"
   ]
  },
  {
   "cell_type": "code",
   "execution_count": null,
   "metadata": {},
   "outputs": [],
   "source": [
    "df = splink_datasets.historical_50k\n",
    "df1 = df.sample(10000)\n",
    "\n",
    "merged_df = pd.merge(df, df1, how='outer', indicator=True)\n",
    "\n",
    "# Filter out rows that are only in the subset DataFrame\n",
    "subset_df = merged_df[merged_df['_merge'] == 'right_only'].drop('_merge', axis=1)\n",
    "\n",
    "# Filter out rows that are in the subset DataFrame from the original DataFrame\n",
    "df = merged_df[merged_df['_merge'] == 'left_only'].drop('_merge', axis=1)\n",
    "\n",
    "df2 = df.sample(10000)"
   ]
  },
  {
   "cell_type": "code",
   "execution_count": null,
   "metadata": {},
   "outputs": [],
   "source": [
    "settings = {\n",
    "    \"link_type\": \"link_only\",\n",
    "    \"blocking_rules_to_generate_predictions\": [\n",
    "        block_on(\"first_name\"),\n",
    "        block_on(\"surname\"),\n",
    "    ],\n",
    "    \"comparisons\": [\n",
    "        cl.exact_match(\"first_name\"),\n",
    "        cl.exact_match(\"surname\"),\n",
    "        cl.exact_match(\"dob\"),\n",
    "        cl.exact_match(\"birth_place\", term_frequency_adjustments=True),\n",
    "    ],\n",
    "}\n",
    "\n",
    "settings = {\n",
    "    \"link_type\": \"link_only\",\n",
    "    \"blocking_rules_to_generate_predictions\": [\n",
    "        block_on(\"first_name\"),\n",
    "        block_on(\"surname\"),\n",
    "    ],\n",
    "    \"comparisons\": [\n",
    "        cl.levenshtein_at_thresholds(\"first_name\", [2]),\n",
    "        cl.levenshtein_at_thresholds(\"surname\", [2]),\n",
    "        cl.levenshtein_at_thresholds(\"dob\", [2]),\n",
    "        cl.levenshtein_at_thresholds(\"birth_place\", [2]),\n",
    "    ],\n",
    "}"
   ]
  },
  {
   "cell_type": "code",
   "execution_count": null,
   "metadata": {},
   "outputs": [],
   "source": [
    "linker = DuckDBLinker([df1,df2], settings)\n",
    "linker.estimate_u_using_random_sampling(max_pairs=1e6)"
   ]
  },
  {
   "cell_type": "code",
   "execution_count": null,
   "metadata": {},
   "outputs": [],
   "source": [
    "blocking_rule_for_training = block_on([\"first_name\", \"surname\"])\n",
    "linker.estimate_parameters_using_expectation_maximisation(blocking_rule_for_training, estimate_without_term_frequencies=True)\n",
    "\n",
    "blocking_rule_for_training = block_on(\"substr(dob, 1, 4)\")  # block on year\n",
    "linker.estimate_parameters_using_expectation_maximisation(blocking_rule_for_training, estimate_without_term_frequencies=True)"
   ]
  },
  {
   "cell_type": "code",
   "execution_count": null,
   "metadata": {},
   "outputs": [],
   "source": [
    "linker.m_u_parameters_chart()"
   ]
  },
  {
   "cell_type": "code",
   "execution_count": null,
   "metadata": {},
   "outputs": [],
   "source": [
    "model = linker.save_settings_to_json()"
   ]
  },
  {
   "cell_type": "code",
   "execution_count": null,
   "metadata": {},
   "outputs": [],
   "source": [
    "m_and_us_df = format_model_m_and_us(linker)\n",
    "# m_and_us_df.to_csv('outputs/linking.csv')\n",
    "m_and_us_df"
   ]
  },
  {
   "cell_type": "code",
   "execution_count": null,
   "metadata": {},
   "outputs": [],
   "source": [
    "pairwise_predictions = linker.predict()"
   ]
  },
  {
   "cell_type": "code",
   "execution_count": null,
   "metadata": {},
   "outputs": [],
   "source": [
    "clusters = linker.cluster_pairwise_predictions_at_threshold(pairwise_predictions, 0.95)\n",
    "clusters.as_pandas_dataframe(limit=5)"
   ]
  },
  {
   "cell_type": "markdown",
   "metadata": {},
   "source": []
  },
  {
   "cell_type": "code",
   "execution_count": null,
   "metadata": {},
   "outputs": [],
   "source": []
  }
 ],
 "metadata": {
  "kernelspec": {
   "display_name": "Python 3",
   "language": "python",
   "name": "python3"
  },
  "language_info": {
   "codemirror_mode": {
    "name": "ipython",
    "version": 3
   },
   "file_extension": ".py",
   "mimetype": "text/x-python",
   "name": "python",
   "nbconvert_exporter": "python",
   "pygments_lexer": "ipython3",
   "version": "3.10.13"
  }
 },
 "nbformat": 4,
 "nbformat_minor": 2
}
