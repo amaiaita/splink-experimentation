{
 "cells": [
  {
   "cell_type": "code",
   "execution_count": null,
   "metadata": {},
   "outputs": [],
   "source": [
    "import pandas as pd\n",
    "import matplotlib as mpl\n",
    "import matplotlib.pyplot as plt\n",
    "from utils import format_model_m_and_us, plot_m_and_u"
   ]
  },
  {
   "cell_type": "code",
   "execution_count": null,
   "metadata": {},
   "outputs": [],
   "source": [
    "training_rule_change = pd.read_csv('outputs/diff_training_rules.csv')\n",
    "no_changes = pd.read_csv('outputs/first_test.csv')\n",
    "less_data = pd.read_csv('outputs/less_data.csv')\n",
    "linking_subsets = pd.read_csv('outputs/linking.csv')\n",
    "linking_subsets2 = pd.read_csv('outputs/linking2.csv')"
   ]
  },
  {
   "cell_type": "code",
   "execution_count": null,
   "metadata": {},
   "outputs": [],
   "source": [
    "fig , ax = plt.subplots()\n",
    "\n",
    "plot_m_and_u(less_data,ax,'v')\n",
    "plot_m_and_u(no_changes,ax,'.')\n",
    "plt.legend()\n",
    "plt.show()"
   ]
  },
  {
   "cell_type": "code",
   "execution_count": null,
   "metadata": {},
   "outputs": [],
   "source": [
    "fig , ax = plt.subplots()\n",
    "\n",
    "plot_m_and_u(linking_subsets,ax,'v')\n",
    "plot_m_and_u(no_changes,ax,'.')\n",
    "plt.legend()\n",
    "plt.show()"
   ]
  },
  {
   "cell_type": "code",
   "execution_count": null,
   "metadata": {},
   "outputs": [],
   "source": [
    "fig , ax = plt.subplots()\n",
    "\n",
    "plot_m_and_u(linking_subsets,ax,'v')\n",
    "plot_m_and_u(linking_subsets2,ax,'.')\n",
    "plt.legend()\n",
    "plt.show()"
   ]
  },
  {
   "cell_type": "code",
   "execution_count": null,
   "metadata": {},
   "outputs": [],
   "source": []
  }
 ],
 "metadata": {
  "kernelspec": {
   "display_name": "Python 3",
   "language": "python",
   "name": "python3"
  },
  "language_info": {
   "codemirror_mode": {
    "name": "ipython",
    "version": 3
   },
   "file_extension": ".py",
   "mimetype": "text/x-python",
   "name": "python",
   "nbconvert_exporter": "python",
   "pygments_lexer": "ipython3",
   "version": "3.10.13"
  }
 },
 "nbformat": 4,
 "nbformat_minor": 2
}
